{
 "cells": [
  {
   "cell_type": "code",
   "execution_count": 19,
   "id": "b7851f5a",
   "metadata": {},
   "outputs": [
    {
     "name": "stdout",
     "output_type": "stream",
     "text": [
      "Headers: ['Product', 'Price', 'In Stock']\n",
      "Row: ['Laptop', '$1000', 'Yes']\n",
      "Row: ['Smartphone', '$800', 'No']\n",
      "Row: ['Tablet', '$500', 'Yes']\n"
     ]
    }
   ],
   "source": [
    "#task 2\n",
    "from bs4 import BeautifulSoup\n",
    "import requests\n",
    "import csv\n",
    "\n",
    "url = 'https://www.baraasallout.com/test.html?authuser=0'\n",
    "\n",
    "R = requests.get(url)\n",
    "\n",
    "soup = BeautifulSoup(R.content)\n",
    "\n",
    "lst = []\n",
    "\n",
    "table = soup.find('table')\n",
    "rows = table.findAll('tr')\n",
    "\n",
    "headers = []\n",
    "all_data = [] \n",
    "for i, row in enumerate(rows):\n",
    "    if i == 0:\n",
    "        headers = [th.text.strip() for th in row.find_all('th')]\n",
    "    else:\n",
    "        data = [td.text.strip() for td in row.find_all('td')]\n",
    "        if data: \n",
    "            all_data.append(data)\n",
    "\n",
    "print(\"Headers:\", headers)\n",
    "for row in all_data:\n",
    "     print(\"Row:\", row)\n",
    "\n",
    "with open('test_1', 'w', newline='') as f:\n",
    "    writer = csv.writer(f)\n",
    "    writer.writerow(headers)\n",
    "    writer.writerows(all_data)"
   ]
  },
  {
   "cell_type": "code",
   "execution_count": 3,
   "id": "4d5f51bb",
   "metadata": {},
   "outputs": [
    {
     "name": "stdout",
     "output_type": "stream",
     "text": [
      "<h1>Web Scraping Practice</h1>\n",
      "[<h2>Available Products</h2>, <h2>Product Table</h2>, <h2>Watch This Video</h2>, <h2>Contact Us</h2>, <h2>Product Information</h2>, <h2>Featured Products</h2>]\n",
      "saved successfully\n"
     ]
    }
   ],
   "source": [
    "#task 1\n",
    "from bs4 import BeautifulSoup\n",
    "import requests\n",
    "import csv\n",
    "\n",
    "url = \"https://www.baraasallout.com/test.html\"\n",
    "\n",
    "R = requests.get(url)\n",
    "\n",
    "soup = BeautifulSoup(R.content)\n",
    "\n",
    "h1 = soup.find(\"h1\")\n",
    "\n",
    "h2 = soup.find_all(\"h2\")\n",
    "\n",
    "print(h1)\n",
    "print(h2)\n",
    "\n",
    "with open('test_2', 'w', newline='') as f:\n",
    "    writer = csv.writer(f)\n",
    "    writer.writerow(h1)\n",
    "    writer.writerows(h2)\n",
    "    print(\"saved successfully\")"
   ]
  },
  {
   "cell_type": "code",
   "execution_count": 31,
   "id": "80e8cc0f",
   "metadata": {},
   "outputs": [
    {
     "name": "stdout",
     "output_type": "stream",
     "text": [
      "<_io.TextIOWrapper name='Product_Information.json' mode='w' encoding='cp1252'>\n"
     ]
    }
   ],
   "source": [
    "#task 3\n",
    "from bs4 import BeautifulSoup\n",
    "import requests\n",
    "import json\n",
    "\n",
    "url = \"https://www.baraasallout.com/test.html\"\n",
    "\n",
    "response = requests.get(url)\n",
    "\n",
    "soup = BeautifulSoup(response.content)\n",
    "\n",
    "\n",
    "books = []\n",
    "divs = soup.find_all(\"div\", style=lambda value: value and \"text-align: center;\" in value)\n",
    "\n",
    "for book_div in divs:\n",
    "    title = (book_div.find(\"p\").find(\"strong\").get_text(strip=True))\n",
    "        \n",
    "    price = (book_div.find(\"p\", style=lambda value: value and \"color: green;\" in value).get_text(strip=True))\n",
    "\n",
    "    stock = (book_div.find_all(\"p\", style=lambda value: value and \"color: green;\" in value)[-1].get_text(strip=True))\n",
    "        \n",
    "    books.append({\n",
    "            \"Title\": title,\n",
    "            \"Price\": price,\n",
    "            \"Stock\": stock,\n",
    "        })\n",
    "    \n",
    "\n",
    "    # Save the extracted data to a JSON file\n",
    "    with open(\"Product_Information.json\", \"w\") as json_file:\n",
    "        json.dump(books, json_file, indent=4)\n",
    "\n"
   ]
  },
  {
   "cell_type": "code",
   "execution_count": 35,
   "id": "e89f661e",
   "metadata": {},
   "outputs": [
    {
     "name": "stdout",
     "output_type": "stream",
     "text": [
      "{\n",
      "    \"Username:\": {\n",
      "        \"id\": \"username\"\n",
      "    },\n",
      "    \"Password:\": {\n",
      "        \"id\": \"password\"\n",
      "    },\n",
      "    \"Choose an option:\": {\n",
      "        \"id\": \"options\"\n",
      "    },\n",
      "    \"I agree to the terms and conditions\": {\n",
      "        \"id\": null\n",
      "    },\n",
      "    \"Password\": \"password\",\n",
      "    \"Username\": \"username\",\n",
      "    \"Options\": [\n",
      "        \"Option 1\",\n",
      "        \"Option 2\",\n",
      "        \"Option 3\"\n",
      "    ],\n",
      "    \"Terms and Conditions\": \"terms\"\n",
      "}\n"
     ]
    }
   ],
   "source": [
    "#task 4\n",
    "from bs4 import BeautifulSoup\n",
    "import requests\n",
    "import json\n",
    "\n",
    "url = \"https://www.baraasallout.com/test.html\"\n",
    "\n",
    "response = requests.get(url)\n",
    "\n",
    "soup = BeautifulSoup(response.content)\n",
    "\n",
    "form_data = {}\n",
    "\n",
    "form = soup.find_all(\"form\")\n",
    "for info in form:\n",
    "    for label in info.find_all(\"label\"):\n",
    "        field_id = label.get(\"for\")\n",
    "        field_name = label.get_text(strip=True)\n",
    "        form_data[field_name] = {'id': field_id}\n",
    "        \n",
    "    password = info.find(\"input\", attrs={\"type\": \"password\"})\n",
    "    if password:\n",
    "        form_data['Password'] = password.get('name')\n",
    "    \n",
    "    username = info.find(\"input\",attrs={\"type\": \"text\"})\n",
    "    if username:\n",
    "        form_data['Username'] = username.get('name')\n",
    "    \n",
    "    select = info.find(\"select\")\n",
    "    if select:\n",
    "        options = []\n",
    "        for option in select.find_all(\"option\"):\n",
    "            options.append(option.get_text(strip = True))\n",
    "        form_data['Options'] = options \n",
    "    \n",
    "    checkbox = info.find(\"input\", attrs={\"type\": \"checkbox\"})\n",
    "    if checkbox:\n",
    "        form_data['Terms and Conditions'] = checkbox.get('name')\n",
    "print(json.dumps(form_data, indent=4))\n",
    "        "
   ]
  },
  {
   "cell_type": "code",
   "execution_count": null,
   "id": "951c8d74",
   "metadata": {},
   "outputs": [],
   "source": []
  }
 ],
 "metadata": {
  "kernelspec": {
   "display_name": "Python 3 (ipykernel)",
   "language": "python",
   "name": "python3"
  },
  "language_info": {
   "codemirror_mode": {
    "name": "ipython",
    "version": 3
   },
   "file_extension": ".py",
   "mimetype": "text/x-python",
   "name": "python",
   "nbconvert_exporter": "python",
   "pygments_lexer": "ipython3",
   "version": "3.11.4"
  }
 },
 "nbformat": 4,
 "nbformat_minor": 5
}
